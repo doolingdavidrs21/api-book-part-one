{
 "cells": [
  {
   "cell_type": "markdown",
   "id": "572dc4c9-d8a8-404c-8745-65d128377be5",
   "metadata": {},
   "source": [
    "https://github.com/leotaku/jupyter-ruff/blob/master/binder/Demo.ipynb"
   ]
  },
  {
   "cell_type": "markdown",
   "id": "a510e47f-0926-4b48-b833-75d881aefef5",
   "metadata": {},
   "source": [
    "# Demo for `jupyter-ruff`\n",
    "\n",
    "1. Format cell using context menu\n",
    "\n",
    "* First, right-click on the code cell below to bring up the context menu.\n",
    "* You should see an item that offers to \"Format Cell Using Ruff\". Click it!\n",
    "* The code cell will now be formatted correctly.\n",
    "\n",
    "\n",
    "If you select multiple cells, all of them will be formatted."
   ]
  },
  {
   "cell_type": "code",
   "execution_count": 1,
   "id": "3ec1ac09-077b-46f5-92fe-2e1bb091b507",
   "metadata": {},
   "outputs": [],
   "source": [
    "def fibonacci(n):\n",
    "    if n < 2:\n",
    "        return n\n",
    "    else:\n",
    "        return fibonacci(n - 1) + fibonacci(n - 2)"
   ]
  },
  {
   "cell_type": "markdown",
   "id": "75e526ce-d870-447b-b254-8dfd0cd1e4c5",
   "metadata": {},
   "source": [
    "If the code contains imports, they will also be imported."
   ]
  },
  {
   "cell_type": "code",
   "execution_count": 2,
   "id": "475f1610-891b-4152-92c2-b0716d0fefd0",
   "metadata": {},
   "outputs": [
    {
     "data": {
      "text/plain": [
       "True"
      ]
     },
     "execution_count": 2,
     "metadata": {},
     "output_type": "execute_result"
    }
   ],
   "source": [
    "import os\n",
    "from pathlib import Path\n",
    "\n",
    "Path(os.getenv(\"HOME\")).exists()"
   ]
  },
  {
   "cell_type": "markdown",
   "id": "912dc5f5-00db-4c2b-a25f-0dab5a490c66",
   "metadata": {},
   "source": [
    "# 2. Format all code cells using the Edit meny\n",
    "\n",
    "* First, left-click on the \"Edit\" entry in the main meny.\n",
    "* You should see an item that offers to \"Format all Cells using Ruff.\" click it.\n",
    "* All code cells will now be formatted correctly."
   ]
  },
  {
   "cell_type": "code",
   "execution_count": 3,
   "id": "bc6de42e-402d-45a5-94ff-3f33bb12567f",
   "metadata": {},
   "outputs": [],
   "source": [
    "def fizzbuzz(n):\n",
    "    for i in range(1, n + 1):\n",
    "        if i % 15 == 0:\n",
    "            yield \"FizzBuzz\"\n",
    "        elif i % 3 == 0:\n",
    "            yield \"Fizz\"\n",
    "        elif i % 5 == 0:\n",
    "            yield \"Buzz\"\n",
    "        else:\n",
    "            yield i"
   ]
  },
  {
   "cell_type": "markdown",
   "id": "4a2e9da6-d8d1-4a0a-ab91-a5c612ebf02c",
   "metadata": {},
   "source": [
    "# 3. Format cells automatically as you run them.\n",
    "\n",
    "* Open the \"Settings Editor\" using the \"Settings\" menu.\n",
    "* Navigate to the \"Jupyter Ruff\" settings entry.\n",
    "* Enable the \"Format on Run\" setting.\n",
    "* Code cells will now be automatically formatted as you run them.\n",
    "\n",
    "This option mimics hte behavior of the venerable `nb_black` extension."
   ]
  },
  {
   "cell_type": "markdown",
   "id": "bdc5342e-c9fc-4d3c-b7e1-84c5d0345784",
   "metadata": {},
   "source": [
    "# 4. Format cells automatically as you save the notebook\n",
    "\n",
    "* Open the \"Settings Editor\" using the \"Settings\" menu\n",
    "* Navigate to the \"Jupyter Ruff\" settings entry\n",
    "* Enable the \"Format on Save\" setting.\n",
    "* Code cells wil now be automatically formatted as you save the containing notebook."
   ]
  },
  {
   "cell_type": "markdown",
   "id": "0c51f18e-5705-4ba4-abc3-dc48fadd8547",
   "metadata": {},
   "source": [
    "# 5. Add a configuration file\n",
    "\n",
    "* Add a configuration file as described in the full documentation [here](https://docs.astral.sh/ruff/configuration/)\n",
    "* Run the command \"Reload On-disk Configuration Files for Ruff\"\n",
    "* Formatting will now follow the rules you have configured.\n",
    "\n",
    "However, note that Ruff and `jupyter-ruff` have good defaults. Only add a configuration file if you have to!"
   ]
  },
  {
   "cell_type": "code",
   "execution_count": null,
   "id": "957013df-f1dc-47e8-baef-f178432286c0",
   "metadata": {},
   "outputs": [],
   "source": []
  },
  {
   "cell_type": "code",
   "execution_count": null,
   "id": "d2eaee2c-a3ca-4ec5-ab17-2224a392c422",
   "metadata": {},
   "outputs": [],
   "source": []
  }
 ],
 "metadata": {
  "jupytext": {
   "formats": "ipynb,auto:percent"
  },
  "kernelspec": {
   "display_name": "api-book-part-one",
   "language": "python",
   "name": "api-book-part-one"
  },
  "language_info": {
   "codemirror_mode": {
    "name": "ipython",
    "version": 3
   },
   "file_extension": ".py",
   "mimetype": "text/x-python",
   "name": "python",
   "nbconvert_exporter": "python",
   "pygments_lexer": "ipython3",
   "version": "3.13.1"
  }
 },
 "nbformat": 4,
 "nbformat_minor": 5
}
